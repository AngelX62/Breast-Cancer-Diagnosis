{
 "cells": [
  {
   "cell_type": "markdown",
   "id": "a7fe6b69-c1ab-4dba-8b94-d21fc44c75e1",
   "metadata": {},
   "source": [
    "# Local API"
   ]
  },
  {
   "cell_type": "code",
   "execution_count": 3,
   "id": "f92d85fc-56c5-4a65-ab84-5dc54746f02d",
   "metadata": {},
   "outputs": [],
   "source": [
    "import json, requests, time, pandas as pd\n",
    "import sys, os\n",
    "from pathlib import Path\n",
    "import requests"
   ]
  },
  {
   "cell_type": "code",
   "execution_count": null,
   "id": "dccc129d",
   "metadata": {},
   "outputs": [
    {
     "name": "stdout",
     "output_type": "stream",
     "text": [
      "Project root: c:\\Users\\Christopher Hanryan\\Jupyter\\Pandas\\BreastCancer\n"
     ]
    }
   ],
   "source": [
    "# locate project root (folder that contains app/main.py and models/logreg_meta.json)\n",
    "def find_root(start: Path) -> Path:\n",
    "    for p in [start, *start.parents]:\n",
    "        if (p / \"app\" / \"main.py\").exists() and (p / \"models\" / \"logreg_meta.json\").exists():\n",
    "            return p\n",
    "    raise FileNotFoundError(\"Cannot find project root (needs app/main.py and models/logreg_meta.json).\")\n",
    "\n",
    "ROOT = find_root(Path.cwd())\n",
    "if str(ROOT) not in sys.path:\n",
    "    sys.path.insert(0, str(ROOT))\n",
    "\n",
    "print(\"Project root:\", ROOT)"
   ]
  },
  {
   "cell_type": "code",
   "execution_count": null,
   "id": "d8f82207",
   "metadata": {},
   "outputs": [],
   "source": [
    "from app.model.model import META, FEATURES, THRESH, predict_pipeline, __version__ as MODEL_VERSION"
   ]
  },
  {
   "cell_type": "code",
   "execution_count": 6,
   "id": "f082149d-6da2-4ec6-8857-01ea33539276",
   "metadata": {},
   "outputs": [],
   "source": [
    "# Base url for running server\n",
    "url = \"http://127.0.0.1:8000\""
   ]
  },
  {
   "cell_type": "code",
   "execution_count": 7,
   "id": "e94f1b38-4e87-4d27-a5de-170908c57a77",
   "metadata": {},
   "outputs": [
    {
     "name": "stdout",
     "output_type": "stream",
     "text": [
      "health: {'health_check': 'OK', 'model_version': '2025-09-11'}\n",
      "CPU times: total: 15.6 ms\n",
      "Wall time: 15.1 ms\n"
     ]
    }
   ],
   "source": [
    "%%time \n",
    "print(\"health:\", requests.get(f\"{url}/\").json())"
   ]
  },
  {
   "cell_type": "code",
   "execution_count": 8,
   "id": "14cfa97e-c66a-4867-acd7-48862cc75160",
   "metadata": {},
   "outputs": [],
   "source": [
    "RECORD = META.get(\"example_record\") "
   ]
  },
  {
   "cell_type": "code",
   "execution_count": 10,
   "id": "088188fa-09a2-4db6-bdf9-0f4373a3f62a",
   "metadata": {},
   "outputs": [
    {
     "name": "stdout",
     "output_type": "stream",
     "text": [
      "200 {'proba': 0.006093971191650225, 'prediction': 0, 'threshold': 0.5}\n"
     ]
    }
   ],
   "source": [
    "r = requests.post(f\"{url}/predict\", json=RECORD)\n",
    "print(r.status_code, r.json())"
   ]
  },
  {
   "cell_type": "code",
   "execution_count": null,
   "id": "823235bf-c902-4ee8-9c4d-ed8fb5087a1f",
   "metadata": {},
   "outputs": [],
   "source": []
  }
 ],
 "metadata": {
  "kernelspec": {
   "display_name": "Python (.venv)",
   "language": "python",
   "name": ".venv"
  },
  "language_info": {
   "codemirror_mode": {
    "name": "ipython",
    "version": 3
   },
   "file_extension": ".py",
   "mimetype": "text/x-python",
   "name": "python",
   "nbconvert_exporter": "python",
   "pygments_lexer": "ipython3",
   "version": "3.12.0"
  }
 },
 "nbformat": 4,
 "nbformat_minor": 5
}
