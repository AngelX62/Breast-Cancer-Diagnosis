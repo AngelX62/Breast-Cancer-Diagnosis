{
 "cells": [
  {
   "cell_type": "markdown",
   "id": "a7fe6b69-c1ab-4dba-8b94-d21fc44c75e1",
   "metadata": {},
   "source": [
    "# Local API"
   ]
  },
  {
   "cell_type": "code",
   "execution_count": 2,
   "id": "f92d85fc-56c5-4a65-ab84-5dc54746f02d",
   "metadata": {},
   "outputs": [],
   "source": [
    "import json, requests, time, pandas as pd\n",
    "import sys, os\n",
    "from pathlib import Path\n",
    "import requests"
   ]
  },
  {
   "cell_type": "code",
   "execution_count": 3,
   "id": "dccc129d",
   "metadata": {},
   "outputs": [
    {
     "name": "stdout",
     "output_type": "stream",
     "text": [
      "Project root: c:\\Users\\Christopher Hanryan\\Jupyter\\Pandas\\BreastCancer\n"
     ]
    }
   ],
   "source": [
    "# locate project root (folder that contains app/main.py and models/logreg_meta.json)\n",
    "def find_root(start: Path) -> Path:\n",
    "    for p in [start, *start.parents]:\n",
    "        if (p / \"app\" / \"main.py\").exists() and (p / \"models\" / \"logreg_meta.json\").exists():\n",
    "            return p\n",
    "    raise FileNotFoundError(\"Cannot find project root (needs app/main.py and models/logreg_meta.json).\")\n",
    "\n",
    "ROOT = find_root(Path.cwd())\n",
    "if str(ROOT) not in sys.path:\n",
    "    sys.path.insert(0, str(ROOT))\n",
    "\n",
    "print(\"Project root:\", ROOT)"
   ]
  },
  {
   "cell_type": "code",
   "execution_count": 4,
   "id": "d8f82207",
   "metadata": {},
   "outputs": [],
   "source": [
    "from app.model.model import META, FEATURES, THRESH, predict_pipeline, __version__ as MODEL_VERSION"
   ]
  },
  {
   "cell_type": "code",
   "execution_count": 5,
   "id": "f082149d-6da2-4ec6-8857-01ea33539276",
   "metadata": {},
   "outputs": [],
   "source": [
    "# Base url for running server\n",
    "url = \"http://127.0.0.1:8000\""
   ]
  },
  {
   "cell_type": "code",
   "execution_count": 6,
   "id": "e94f1b38-4e87-4d27-a5de-170908c57a77",
   "metadata": {},
   "outputs": [
    {
     "name": "stdout",
     "output_type": "stream",
     "text": [
      "health: {'health_check': 'OK', 'model_version': '2025-09-11'}\n",
      "CPU times: total: 15.6 ms\n",
      "Wall time: 41.6 ms\n"
     ]
    }
   ],
   "source": [
    "%%time \n",
    "print(\"health:\", requests.get(f\"{url}/\").json())"
   ]
  },
  {
   "cell_type": "code",
   "execution_count": 7,
   "id": "14cfa97e-c66a-4867-acd7-48862cc75160",
   "metadata": {},
   "outputs": [],
   "source": [
    "RECORD = META.get(\"example_record\") "
   ]
  },
  {
   "cell_type": "code",
   "execution_count": 8,
   "id": "088188fa-09a2-4db6-bdf9-0f4373a3f62a",
   "metadata": {},
   "outputs": [
    {
     "name": "stdout",
     "output_type": "stream",
     "text": [
      "200 {'proba': 0.006093971191650225, 'prediction': 0, 'threshold': 0.5}\n"
     ]
    }
   ],
   "source": [
    "r = requests.post(f\"{url}/predict\", json=RECORD)\n",
    "print(r.status_code, r.json())"
   ]
  },
  {
   "cell_type": "markdown",
   "id": "44d9d8f9",
   "metadata": {},
   "source": [
    "# Docker API"
   ]
  },
  {
   "cell_type": "code",
   "execution_count": 27,
   "id": "87c537a2",
   "metadata": {},
   "outputs": [],
   "source": [
    "url = \"http://localhost:8000\""
   ]
  },
  {
   "cell_type": "code",
   "execution_count": 28,
   "id": "a6778944",
   "metadata": {},
   "outputs": [
    {
     "name": "stdout",
     "output_type": "stream",
     "text": [
      "{'health_check': 'OK', 'model_version': '2025-09-11'}\n"
     ]
    }
   ],
   "source": [
    "print(requests.get(f\"{url}/\").json())"
   ]
  },
  {
   "cell_type": "code",
   "execution_count": null,
   "id": "1a1844a8",
   "metadata": {},
   "outputs": [
    {
     "name": "stdout",
     "output_type": "stream",
     "text": [
      "predict: 200 {'proba': 0.006093971191650225, 'prediction': 0, 'threshold': 0.5}\n"
     ]
    }
   ],
   "source": [
    "payload = META.get(\"example_record\")\n",
    "r = requests.post(f\"{url}/predict\", json=payload, timeout=10)\n",
    "print(\"predict:\", r.status_code, r.json())"
   ]
  },
  {
   "cell_type": "markdown",
   "id": "b0c3e42f",
   "metadata": {},
   "source": [
    "# (AWS) Docker API"
   ]
  },
  {
   "cell_type": "code",
   "execution_count": 32,
   "id": "ff1a8efd",
   "metadata": {},
   "outputs": [],
   "source": [
    "url = \"http://3.107.46.160:8000\""
   ]
  },
  {
   "cell_type": "code",
   "execution_count": 33,
   "id": "1510e80f",
   "metadata": {},
   "outputs": [
    {
     "name": "stdout",
     "output_type": "stream",
     "text": [
      "8000 200\n",
      "80 ConnectTimeout\n"
     ]
    }
   ],
   "source": [
    "for p in (8000, 80):\n",
    "    try:\n",
    "        print(p, requests.get(f\"http://3.107.46.160:{p}/\", timeout=5).status_code)\n",
    "    except Exception as e:\n",
    "        print(p, type(e).__name__)"
   ]
  },
  {
   "cell_type": "code",
   "execution_count": 34,
   "id": "07d0488b",
   "metadata": {},
   "outputs": [
    {
     "name": "stdout",
     "output_type": "stream",
     "text": [
      "HTTP latency: 218.0 ms\n"
     ]
    }
   ],
   "source": [
    "\n",
    "r = requests.get(f\"{url}/\")\n",
    "print(f\"HTTP latency: {r.elapsed.total_seconds()*1000:.1f} ms\")"
   ]
  },
  {
   "cell_type": "code",
   "execution_count": 35,
   "id": "25a8fbda",
   "metadata": {},
   "outputs": [
    {
     "name": "stdout",
     "output_type": "stream",
     "text": [
      "health: {'health_check': 'OK', 'model_version': '2025-09-11'}\n",
      "CPU times: total: 15.6 ms\n",
      "Wall time: 227 ms\n"
     ]
    }
   ],
   "source": [
    "%%time \n",
    "print(\"health:\", requests.get(f\"{url}/\").json())"
   ]
  },
  {
   "cell_type": "code",
   "execution_count": 36,
   "id": "a44a0fa5",
   "metadata": {},
   "outputs": [
    {
     "name": "stdout",
     "output_type": "stream",
     "text": [
      "status: 200 latency_ms: 240.9 body: {'proba': 0.006093971191650225, 'prediction': 0, 'threshold': 0.5}\n"
     ]
    }
   ],
   "source": [
    "t0 = time.perf_counter()\n",
    "payload = META.get(\"example_record\")\n",
    "r = requests.post(f\"{url}/predict\", json=payload)\n",
    "dt = (time.perf_counter() - t0) * 1000\n",
    "print(\"status:\", r.status_code, \"latency_ms:\", f\"{dt:.1f}\", \"body:\", r.json())"
   ]
  }
 ],
 "metadata": {
  "kernelspec": {
   "display_name": "Python (.venv)",
   "language": "python",
   "name": ".venv"
  },
  "language_info": {
   "codemirror_mode": {
    "name": "ipython",
    "version": 3
   },
   "file_extension": ".py",
   "mimetype": "text/x-python",
   "name": "python",
   "nbconvert_exporter": "python",
   "pygments_lexer": "ipython3",
   "version": "3.12.0"
  }
 },
 "nbformat": 4,
 "nbformat_minor": 5
}
